{
  "nbformat": 4,
  "nbformat_minor": 0,
  "metadata": {
    "colab": {
      "provenance": [],
      "authorship_tag": "ABX9TyMyNEaaUq5zy5MYpu2EPTgJ",
      "include_colab_link": true
    },
    "kernelspec": {
      "name": "python3",
      "display_name": "Python 3"
    },
    "language_info": {
      "name": "python"
    }
  },
  "cells": [
    {
      "cell_type": "markdown",
      "metadata": {
        "id": "view-in-github",
        "colab_type": "text"
      },
      "source": [
        "<a href=\"https://colab.research.google.com/github/pauljosuemichel/TRABAJOS/blob/main/Untitled1.ipynb\" target=\"_parent\"><img src=\"https://colab.research.google.com/assets/colab-badge.svg\" alt=\"Open In Colab\"/></a>"
      ]
    },
    {
      "cell_type": "code",
      "execution_count": null,
      "metadata": {
        "id": "SBMRBigGTWOs"
      },
      "outputs": [],
      "source": [
        "#ejercicio 1\n",
        "def es_primo(n):\n",
        "    if n < 2:\n",
        "        return False\n",
        "    for i in range(2, int(n ** 0.5) + 1):\n",
        "        if n % i == 0:\n",
        "            return False\n",
        "    return True\n",
        "\n",
        "num = int(input(\"Ingrese un número entero positivo: \"))\n",
        "print(f\"¿El número {num} es primo? {es_primo(num)}\")\n",
        "\n",
        "\n",
        "\n",
        "\n",
        "#ejercicio 2\n",
        "def suma_arreglo(arr):\n",
        "    return sum(arr)\n",
        "\n",
        "# Ejemplo de uso\n",
        "numeros = [1, 2, 3, 4, 5]\n",
        "print(f\"La suma del arreglo es: {suma_arreglo(numeros)}\")\n",
        "\n",
        "\n",
        "\n",
        "#ejercicio 3\n",
        "def contar_ocurrencias(arr, valor):\n",
        "    contador = 0\n",
        "    for elemento in arr:\n",
        "        if elemento == valor:\n",
        "            contador += 1\n",
        "    return contador\n",
        "\n",
        "\n",
        "\n",
        "#ejercicio 4\n",
        "def filtrar_menores(arr, valor):\n",
        "    return list(filter(lambda x: x < valor, arr))\n",
        "\n",
        "\n",
        "\n",
        "\n",
        "#ejercicio 5\n",
        "def filtrar_menores(arr, valor):\n",
        "    return list(filter(lambda x: x < valor, arr))\n",
        "\n",
        "\n",
        "\n",
        "\n",
        "#ejercicio 6\n",
        "import numpy as np\n",
        "\n",
        "def sumar_matrices_numpy(matriz1, matriz2):\n",
        "    return np.add(matriz1, matriz2)\n",
        "\n",
        "matriz_a = np.array([[1, 2, 3], [4, 5, 6]])\n",
        "matriz_b = np.array([[7, 8, 9], [10, 11, 12]])\n",
        "\n",
        "print(sumar_matrices_numpy(matriz_a, matriz_b))\n",
        "\n",
        "\n",
        "\n",
        "\n",
        "#ejercicio 7\n",
        "import numpy as np\n",
        "\n",
        "def multiplicar_matrices_numpy(matriz1, matriz2):\n",
        "    return np.dot(matriz1, matriz2)\n",
        "\n",
        "matriz_a = np.array([[1, 2, 3], [4, 5, 6]])\n",
        "matriz_b = np.array([[7, 8], [9, 10], [11, 12]])\n",
        "\n",
        "print(multiplicar_matrices_numpy(matriz_a, matriz_b))\n",
        "\n"
      ]
    }
  ]
}